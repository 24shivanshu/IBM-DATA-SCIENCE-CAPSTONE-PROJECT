{
 "cells": [
  {
   "cell_type": "markdown",
   "metadata": {},
   "source": [
    "**Project- THE BATTLE OF THE NEIGHBORHOODS PART-1**\n",
    "\n"
   ]
  },
  {
   "cell_type": "markdown",
   "metadata": {},
   "source": [
    "Import Libraries"
   ]
  },
  {
   "cell_type": "code",
   "execution_count": 4,
   "metadata": {},
   "outputs": [
    {
     "name": "stdout",
     "output_type": "stream",
     "text": [
      "Collecting package metadata (current_repodata.json): ...working... done\n",
      "Solving environment: ...working... failed with initial frozen solve. Retrying with flexible solve.\n",
      "Collecting package metadata (repodata.json): ...working... done\n",
      "Solving environment: ...working... done\n",
      "\n",
      "## Package Plan ##\n",
      "\n",
      "  environment location: C:\\Users\\shivvaanshu\\anaconda3\n",
      "\n",
      "  added / updated specs:\n",
      "    - folium=0.5.0\n",
      "Libraries imported.\n",
      "\n",
      "\n",
      "The following packages will be downloaded:\n",
      "\n",
      "    package                    |            build\n",
      "    ---------------------------|-----------------\n",
      "    altair-4.1.0               |             py_1         614 KB  conda-forge\n",
      "    branca-0.4.2               |     pyhd8ed1ab_0          26 KB  conda-forge\n",
      "    folium-0.5.0               |             py_0          45 KB  conda-forge\n",
      "    openssl-1.1.1g             |       he774522_0         5.7 MB  conda-forge\n",
      "    vincent-0.4.4              |             py_1          28 KB  conda-forge\n",
      "    ------------------------------------------------------------\n",
      "                                           Total:         6.4 MB\n",
      "\n",
      "The following NEW packages will be INSTALLED:\n",
      "\n",
      "  altair             conda-forge/noarch::altair-4.1.0-py_1\n",
      "  branca             conda-forge/noarch::branca-0.4.2-pyhd8ed1ab_0\n",
      "  folium             conda-forge/noarch::folium-0.5.0-py_0\n",
      "  vincent            conda-forge/noarch::vincent-0.4.4-py_1\n",
      "\n",
      "The following packages will be SUPERSEDED by a higher-priority channel:\n",
      "\n",
      "  openssl                                         pkgs/main --> conda-forge\n",
      "\n",
      "\n",
      "\n",
      "Downloading and Extracting Packages\n",
      "\n",
      "vincent-0.4.4        | 28 KB     |            |   0% \n",
      "vincent-0.4.4        | 28 KB     | #####7     |  58% \n",
      "vincent-0.4.4        | 28 KB     | ########## | 100% \n",
      "vincent-0.4.4        | 28 KB     | ########## | 100% \n",
      "\n",
      "openssl-1.1.1g       | 5.7 MB    |            |   0% \n",
      "openssl-1.1.1g       | 5.7 MB    | 1          |   1% \n",
      "openssl-1.1.1g       | 5.7 MB    | 5          |   6% \n",
      "openssl-1.1.1g       | 5.7 MB    | #          |  10% \n",
      "openssl-1.1.1g       | 5.7 MB    | #4         |  15% \n",
      "openssl-1.1.1g       | 5.7 MB    | #9         |  19% \n",
      "openssl-1.1.1g       | 5.7 MB    | ##3        |  24% \n",
      "openssl-1.1.1g       | 5.7 MB    | ##8        |  29% \n",
      "openssl-1.1.1g       | 5.7 MB    | ###5       |  36% \n",
      "openssl-1.1.1g       | 5.7 MB    | ####3      |  43% \n",
      "openssl-1.1.1g       | 5.7 MB    | #####2     |  52% \n",
      "openssl-1.1.1g       | 5.7 MB    | ######3    |  64% \n",
      "openssl-1.1.1g       | 5.7 MB    | #######6   |  77% \n",
      "openssl-1.1.1g       | 5.7 MB    | #########1 |  91% \n",
      "openssl-1.1.1g       | 5.7 MB    | ########## | 100% \n",
      "\n",
      "folium-0.5.0         | 45 KB     |            |   0% \n",
      "folium-0.5.0         | 45 KB     | ########## | 100% \n",
      "folium-0.5.0         | 45 KB     | ########## | 100% \n",
      "\n",
      "branca-0.4.2         | 26 KB     |            |   0% \n",
      "branca-0.4.2         | 26 KB     | ########## | 100% \n",
      "branca-0.4.2         | 26 KB     | ########## | 100% \n",
      "\n",
      "altair-4.1.0         | 614 KB    |            |   0% \n",
      "altair-4.1.0         | 614 KB    | #3         |  13% \n",
      "altair-4.1.0         | 614 KB    | #####7     |  57% \n",
      "altair-4.1.0         | 614 KB    | ########## | 100% \n",
      "altair-4.1.0         | 614 KB    | ########## | 100% \n",
      "Preparing transaction: ...working... done\n",
      "Verifying transaction: ...working... done\n",
      "Executing transaction: ...working... done\n"
     ]
    }
   ],
   "source": [
    "import numpy as np # library to handle data in a vectorized manner\n",
    "import time\n",
    "import pandas as pd # library for data analsysis\n",
    "pd.set_option('display.max_columns', None)\n",
    "pd.set_option('display.max_rows', None)\n",
    "\n",
    "import json # library to handle JSON files\n",
    "import requests # library to handle requests\n",
    "from pandas.io.json import json_normalize # tranform JSON file into a pandas dataframe\n",
    "\n",
    "from geopy.geocoders import Nominatim # convert an address into latitude and longitude values\n",
    "!conda install -c conda-forge folium=0.5.0 --yes\n",
    "import folium # map rendering library\n",
    "\n",
    "print('Libraries imported.')\n"
   ]
  },
  {
   "cell_type": "markdown",
   "metadata": {},
   "source": [
    "**Discussion of the business problem and the audience who would be interested in this project**.\n",
    "\n",
    "\n",
    "Description of the Problem and Background\n",
    "Scenario:\n",
    "I am an aspiring data scientist residing in New Delhi, India.\n",
    "\n",
    "I have been looking for an opportunity to work for a leading firm in Manhattan, NY. I am very excited and I want to use this opportunity to practice my learnings in Coursera in order to answer relevant questions arisen. The key question is : How can I find a convenient and enjoyable place in New York?\n",
    "\n",
    "Certainly, I can use available real estate apps and Google but the idea is to use and apply myself the learned tools during the course. In order to make a comparison and evaluation of options in Manhattan NY, I must set some basis, therefore the apartment in Manhattan must meet the following demands:\n",
    "\n",
    "desired location is near a metro station in the Manhattan area and within 1.0 mile (1.6 km) radius\n",
    "top ammenities in the selected neighborhood shall be similar to current residence\n",
    "desirable to have venues such as coffee shops, restaurants Asian Thai, wine stores, gym and food shops\n",
    "as a reference.\n",
    "Business Problem:\n",
    "The challenge is to find a suitable apartment for rent in Manhattan NY that complies with the demands on location and venues. The data required to resolve this challenge is described in the following section 2, below.\n",
    "\n",
    "Interested Audience\n",
    "I believe this is a relevant challenge with valid questions for anyone moving to other large city in US, EU or Asia. The same methodology can be applied in accordance to demands as applicable. This case is also applicable for anyone interested in exploring starting or locating a new business in any city. Lastly, it can also serve as a good practical exercise to develop Data Science skills."
   ]
  },
  {
   "cell_type": "markdown",
   "metadata": {},
   "source": [
    "**DATA SECTION**\n",
    "\n",
    "Description of the data and its sources that will be used to solve the problem\n",
    "Description of the Data:¶\n",
    "The following data is required to answer the issues of the problem:\n",
    "\n",
    "List of Boroughs and neighborhoods of Manhattan with their geodata (latitude and longitude)\n",
    "List of Subway metro stations in Manhattan with their address location\n",
    "List of apartments for rent in Manhattan area with their addresses and price\n",
    "Preferably, a list of apartment for rent with additional information, such as price, address, area, # of beds, etc\n",
    "Venues for each Manhattan neighborhood ( than can be clustered)\n",
    "Venues for subway metro stations, as needed\n",
    "How the data will be used to solve the problem\n",
    "The data will be used as follows:\n",
    "\n",
    "Use Foursquare and geopy data to map top 10 venues for all Manhattan neighborhoods and clustered in groups ( as per Course LAB)\n",
    "Use foursquare and geopy data to map the location of subway metro stations , separately and on top of the above clustered map in order to be able to identify the venues and ammenities near each metro station, or explore each subway location separately\n",
    "Use Foursquare and geopy data to map the location of rental places, in some form, linked to the subway locations.\n",
    "create a map that depicts, for instance, the average rental price per square ft, around a radious of 1.0 mile (1.6 km) around each subway station - or a similar metrics. I will be able to quickly point to the popups to know the relative price per subway area.\n",
    "Addresses from rental locations will be converted to geodata( lat, long) using Geopy-distance and Nominatim.\n",
    "Data will be searched in open data sources if available, from real estate sites if open to reading, libraries or other government agencies such as Metro New York MTA, etc.\n",
    "The procesing of these DATA will allow to answer the key questions to make a decision:\n",
    "\n",
    "what is the cost of rent (per square ft) around a mile radius from each subway metro station?\n",
    "what is the area of Manhattan with best rental pricing that meets criteria established?\n",
    "What is the distance from work place ( Park Ave and 53 rd St) and the tentative future home?\n",
    "What are the venues of the two best places to live? How the prices compare?\n",
    "How venues distribute among Manhattan neighborhoods and around metro stations?\n",
    "Are there tradeoffs between size and price and location?\n",
    "Any other interesting statistical data findings of the real estate and overall data.\n",
    "Reference of venues around current residence in Singapore for comparison to Manhattan place"
   ]
  },
  {
   "cell_type": "code",
   "execution_count": 29,
   "metadata": {},
   "outputs": [
    {
     "name": "stdout",
     "output_type": "stream",
     "text": [
      "The geograpical coordinate of New Delhi home are 28.6313827, 77.2197924.\n"
     ]
    }
   ],
   "source": [
    "\n",
    "address = 'Connaught Place, New Delhi'\n",
    "\n",
    "geolocator = Nominatim(user_agent=\"nd_explorer\")\n",
    "location = geolocator.geocode(address)\n",
    "latitude = location.latitude\n",
    "longitude = location.longitude\n",
    "print('The geograpical coordinate of New Delhi home are {}, {}.'.format(latitude, longitude))"
   ]
  },
  {
   "cell_type": "code",
   "execution_count": 7,
   "metadata": {},
   "outputs": [],
   "source": [
    "neighborhood_latitude=28.58915905\n",
    "neighborhood_longitude=77.0692229377327"
   ]
  },
  {
   "cell_type": "code",
   "execution_count": 19,
   "metadata": {},
   "outputs": [],
   "source": [
    "# @hidden_cell\n",
    "CLIENT_ID = 'OEC3FGYSXKRQGPLBLJXDUXLH53FOHETMHZ2KR4SRZM4CSHAA' # your Foursquare ID\n",
    "CLIENT_SECRET = 'GEYMLLEBI0OVNH5KFSSXOQTFDZJQC3020I3ZTBDBJADV5JU2' # your Foursquare Secret\n",
    "VERSION = '{20180605}&ll=={28.58915905}' # Foursquare API version\n",
    "\n",
    "#print('Your credentails:')\n",
    "#print('CLIENT_ID: ' + CLIENT_ID)\n",
    "#print('CLIENT_SECRET:' + CLIENT_SECRET)"
   ]
  },
  {
   "cell_type": "code",
   "execution_count": 32,
   "metadata": {},
   "outputs": [
    {
     "ename": "SyntaxError",
     "evalue": "invalid syntax (<ipython-input-32-3c2ee176a3f5>, line 7)",
     "output_type": "error",
     "traceback": [
      "\u001b[1;36m  File \u001b[1;32m\"<ipython-input-32-3c2ee176a3f5>\"\u001b[1;36m, line \u001b[1;32m7\u001b[0m\n\u001b[1;33m    client_secret=={GEYMLLEBI0OVNH5KFSSXOQTFDZJQC3020I3ZTBDBJADV5JU2}\u001b[0m\n\u001b[1;37m    ^\u001b[0m\n\u001b[1;31mSyntaxError\u001b[0m\u001b[1;31m:\u001b[0m invalid syntax\n"
     ]
    }
   ],
   "source": [
    "LIMIT = 100 # limit of number of venues returned by Foursquare API\n",
    "radius = 2500 # define radius\n",
    "\n",
    "# create URL\n",
    "url = 'https://api.foursquare.com/v2/venues/explore?&client_id={}&client_secret={}&v={}&ll={},{}&radius={}&limit={}'.format(\n",
    "client_id=={OEC3FGYSXKRQGPLBLJXDUXLH53FOHETMHZ2KR4SRZM4CSHAA}\n",
    "client_secret=={GEYMLLEBI0OVNH5KFSSXOQTFDZJQC3020I3ZTBDBJADV5JU2}\n",
    "version=={20180605}&ll=={28.58915905},\n",
    "neighborhood_latitude={28.6313827},\n",
    "neighborhood_longitude={77.2197924},\n",
    "radius ={2500},\n",
    "LIMIT= {100})\n",
    "\n",
    "url"
   ]
  },
  {
   "cell_type": "code",
   "execution_count": 28,
   "metadata": {},
   "outputs": [
    {
     "ename": "NameError",
     "evalue": "name 'requests' is not defined",
     "output_type": "error",
     "traceback": [
      "\u001b[1;31m---------------------------------------------------------------------------\u001b[0m",
      "\u001b[1;31mNameError\u001b[0m                                 Traceback (most recent call last)",
      "\u001b[1;32m<ipython-input-28-e958d6172fdd>\u001b[0m in \u001b[0;36m<module>\u001b[1;34m\u001b[0m\n\u001b[1;32m----> 1\u001b[1;33m \u001b[0mresults\u001b[0m \u001b[1;33m=\u001b[0m \u001b[0mrequests\u001b[0m\u001b[1;33m.\u001b[0m\u001b[0mget\u001b[0m\u001b[1;33m(\u001b[0m\u001b[0murl\u001b[0m\u001b[1;33m)\u001b[0m\u001b[1;33m.\u001b[0m\u001b[0mjson\u001b[0m\u001b[1;33m(\u001b[0m\u001b[1;33m)\u001b[0m\u001b[1;33m\u001b[0m\u001b[1;33m\u001b[0m\u001b[0m\n\u001b[0m",
      "\u001b[1;31mNameError\u001b[0m: name 'requests' is not defined"
     ]
    }
   ],
   "source": [
    "results = requests.get(url).json()"
   ]
  },
  {
   "cell_type": "code",
   "execution_count": 16,
   "metadata": {},
   "outputs": [],
   "source": [
    "def get_category_type(row):\n",
    "    try:\n",
    "        categories_list = row['categories']\n",
    "    except:\n",
    "        categories_list = row['venue.categories']\n",
    "        \n",
    "    if len(categories_list) == 0:\n",
    "        return None\n",
    "    else:\n",
    "        return categories_list[0]['name']"
   ]
  },
  {
   "cell_type": "code",
   "execution_count": 17,
   "metadata": {},
   "outputs": [
    {
     "ename": "NameError",
     "evalue": "name 'results' is not defined",
     "output_type": "error",
     "traceback": [
      "\u001b[1;31m---------------------------------------------------------------------------\u001b[0m",
      "\u001b[1;31mNameError\u001b[0m                                 Traceback (most recent call last)",
      "\u001b[1;32m<ipython-input-17-268e1b0a209e>\u001b[0m in \u001b[0;36m<module>\u001b[1;34m\u001b[0m\n\u001b[1;32m----> 1\u001b[1;33m \u001b[0mvenues\u001b[0m \u001b[1;33m=\u001b[0m \u001b[0mresults\u001b[0m\u001b[1;33m[\u001b[0m\u001b[1;34m'response'\u001b[0m\u001b[1;33m]\u001b[0m\u001b[1;33m[\u001b[0m\u001b[1;34m'groups'\u001b[0m\u001b[1;33m]\u001b[0m\u001b[1;33m[\u001b[0m\u001b[1;36m0\u001b[0m\u001b[1;33m]\u001b[0m\u001b[1;33m[\u001b[0m\u001b[1;34m'items'\u001b[0m\u001b[1;33m]\u001b[0m\u001b[1;33m\u001b[0m\u001b[1;33m\u001b[0m\u001b[0m\n\u001b[0m\u001b[0;32m      2\u001b[0m \u001b[1;33m\u001b[0m\u001b[0m\n\u001b[0;32m      3\u001b[0m \u001b[0mNDnearby_venues\u001b[0m \u001b[1;33m=\u001b[0m \u001b[0mjson_normalize\u001b[0m\u001b[1;33m(\u001b[0m\u001b[0mvenues\u001b[0m\u001b[1;33m)\u001b[0m \u001b[1;31m# flatten JSON\u001b[0m\u001b[1;33m\u001b[0m\u001b[1;33m\u001b[0m\u001b[0m\n\u001b[0;32m      4\u001b[0m \u001b[1;33m\u001b[0m\u001b[0m\n\u001b[0;32m      5\u001b[0m \u001b[1;31m# filter columns\u001b[0m\u001b[1;33m\u001b[0m\u001b[1;33m\u001b[0m\u001b[1;33m\u001b[0m\u001b[0m\n",
      "\u001b[1;31mNameError\u001b[0m: name 'results' is not defined"
     ]
    }
   ],
   "source": [
    "venues = results['response']['groups'][0]['items']\n",
    "    \n",
    "NDnearby_venues = json_normalize(venues) # flatten JSON\n",
    "\n",
    "# filter columns\n",
    "filtered_columns = ['venue.name', 'venue.categories', 'venue.location.lat', 'venue.location.lng']\n",
    "NDnearby_venues =NDnearby_venues.loc[:, filtered_columns]\n",
    "\n",
    "# filter the category for each row\n",
    "NDnearby_venues['venue.categories'] = NDnearby_venues.apply(get_category_type, axis=1)\n",
    "\n",
    "# clean columns\n",
    "NDnearby_venues.columns = [col.split(\".\")[-1] for col in NDnearby_venues.columns]\n",
    "\n",
    "NDnearby_venues.head(10)"
   ]
  },
  {
   "cell_type": "code",
   "execution_count": null,
   "metadata": {},
   "outputs": [],
   "source": []
  },
  {
   "cell_type": "code",
   "execution_count": null,
   "metadata": {},
   "outputs": [],
   "source": []
  },
  {
   "cell_type": "code",
   "execution_count": null,
   "metadata": {},
   "outputs": [],
   "source": []
  },
  {
   "cell_type": "code",
   "execution_count": null,
   "metadata": {},
   "outputs": [],
   "source": []
  },
  {
   "cell_type": "code",
   "execution_count": null,
   "metadata": {},
   "outputs": [],
   "source": []
  },
  {
   "cell_type": "code",
   "execution_count": null,
   "metadata": {},
   "outputs": [],
   "source": []
  },
  {
   "cell_type": "code",
   "execution_count": null,
   "metadata": {},
   "outputs": [],
   "source": []
  }
 ],
 "metadata": {
  "kernelspec": {
   "display_name": "Python 3",
   "language": "python",
   "name": "python3"
  },
  "language_info": {
   "codemirror_mode": {
    "name": "ipython",
    "version": 3
   },
   "file_extension": ".py",
   "mimetype": "text/x-python",
   "name": "python",
   "nbconvert_exporter": "python",
   "pygments_lexer": "ipython3",
   "version": "3.8.3"
  }
 },
 "nbformat": 4,
 "nbformat_minor": 4
}
